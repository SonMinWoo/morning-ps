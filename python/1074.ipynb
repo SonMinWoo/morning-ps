{
 "cells": [
  {
   "cell_type": "code",
   "execution_count": 22,
   "metadata": {},
   "outputs": [
    {
     "name": "stdout",
     "output_type": "stream",
     "text": [
      "3 4 1\n",
      "33\n"
     ]
    }
   ],
   "source": [
    "# 1074 12:45~01:34 (49분 소요)\n",
    "\n",
    "N, r, c = map(int, input().split())\n",
    "result = 0\n",
    "\n",
    "def func(n, y, x):\n",
    "    global result\n",
    "   \n",
    "    if n==0:\n",
    "        return\n",
    "    \n",
    "    if y <= r and r <= y+2**(n-1)-1:\n",
    "        if x <= c and c <= x+2**(n-1)-1:\n",
    "            result += 0\n",
    "            return func(n-1, y, x)\n",
    "        else:\n",
    "            result += (2**(2*n))//4\n",
    "            return func(n-1, y, x+2**(n-1))\n",
    "    else:\n",
    "        if x <= c and c <= x+2**(n-1)-1:\n",
    "            result += (2**(2*n))//2\n",
    "            return func(n-1, y+2**(n-1), x)\n",
    "        else:\n",
    "            result += ((2**(2*n))//4)*3\n",
    "            return func(n-1, y+2**(n-1), x+2**(n-1))\n",
    "\n",
    "func(N, 0, 0)\n",
    "\n"
   ]
  }
 ],
 "metadata": {
  "kernelspec": {
   "display_name": "Python 3",
   "language": "python",
   "name": "python3"
  },
  "language_info": {
   "codemirror_mode": {
    "name": "ipython",
    "version": 3
   },
   "file_extension": ".py",
   "mimetype": "text/x-python",
   "name": "python",
   "nbconvert_exporter": "python",
   "pygments_lexer": "ipython3",
   "version": "3.8.5"
  }
 },
 "nbformat": 4,
 "nbformat_minor": 4
}
