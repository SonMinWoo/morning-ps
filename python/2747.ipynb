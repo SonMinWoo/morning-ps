{
 "cells": [
  {
   "cell_type": "code",
   "execution_count": 2,
   "metadata": {},
   "outputs": [
    {
     "name": "stdout",
     "output_type": "stream",
     "text": [
      "10\n",
      "55\n"
     ]
    }
   ],
   "source": [
    "#피보나치 수 : 재귀\n",
    "\n",
    "# def func(count):\n",
    "#     if count == 0:\n",
    "#         return 0\n",
    "#     elif count == 1:\n",
    "#         return 1\n",
    "#     else:\n",
    "#         return func(count-1) + func(count-2)\n",
    "\n",
    "# n = int(input())\n",
    "# print(func(n))\n",
    "\n",
    "n = int(input())\n",
    "a = 0\n",
    "b = 1\n",
    "\n",
    "while n>0:\n",
    "    a, b = b, a+b\n",
    "    n -= 1\n",
    "    \n",
    "print(a)\n"
   ]
  }
 ],
 "metadata": {
  "kernelspec": {
   "display_name": "Python 3",
   "language": "python",
   "name": "python3"
  },
  "language_info": {
   "codemirror_mode": {
    "name": "ipython",
    "version": 3
   },
   "file_extension": ".py",
   "mimetype": "text/x-python",
   "name": "python",
   "nbconvert_exporter": "python",
   "pygments_lexer": "ipython3",
   "version": "3.8.5"
  }
 },
 "nbformat": 4,
 "nbformat_minor": 4
}
